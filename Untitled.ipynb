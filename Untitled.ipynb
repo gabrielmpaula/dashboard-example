{
 "cells": [
  {
   "cell_type": "code",
   "execution_count": 58,
   "metadata": {},
   "outputs": [],
   "source": [
    "import glob\n",
    "import os\n",
    "import pandas as pd\n",
    "import dash\n",
    "import pandas as pd\n",
    "import plotly.graph_objs as go\n",
    "import requests\n",
    "import io\n",
    "import numpy as np\n",
    "from dash.dependencies import Output, Input\n",
    "import dash_core_components as dcc\n",
    "import dash_html_components as html\n",
    "from utils import dataframe\n",
    "import plotly as py"
   ]
  },
  {
   "cell_type": "code",
   "execution_count": 97,
   "metadata": {},
   "outputs": [],
   "source": [
    "def load_data():\n",
    "    data_dir = 'data/' \n",
    "    file_extension = '*.csv'\n",
    "\n",
    "    all_files = glob.glob(os.path.join(data_dir, file_extension))\n",
    "    \n",
    "    df = []\n",
    "    \n",
    "    for filename in all_files:\n",
    "        df.append(pd.read_csv(filename))\n",
    "    \n",
    "    return df\n",
    "\n",
    "all_data = load_data()"
   ]
  },
  {
   "cell_type": "code",
   "execution_count": 117,
   "metadata": {},
   "outputs": [],
   "source": [
    "value = 1"
   ]
  },
  {
   "cell_type": "code",
   "execution_count": 121,
   "metadata": {},
   "outputs": [],
   "source": [
    "data =  [go.Scattermapbox(\n",
    "            lon = all_data[value]['lon'],\n",
    "            lat = all_data[value]['lat'],\n",
    "            text = all_data[value]['name'] + '- População ' + all_data[value]['pop'].astype(str),\n",
    "            mode = 'markers',\n",
    "            marker = go.scattermapbox.Marker(\n",
    "                size = all_data[value]['pop']/marker_scale,\n",
    "                colorscale = 'Portland',\n",
    "                color = all_data[value]['pop'],\n",
    "                showscale = False)\n",
    "        )]"
   ]
  },
  {
   "cell_type": "code",
   "execution_count": 122,
   "metadata": {},
   "outputs": [],
   "source": [
    "layout = go.Layout(\n",
    "    height = 900,\n",
    "    title = '<b>Indian population by city</b>',\n",
    "    titlefont = {'family': 'Arial',\n",
    "                    'size': 24},\n",
    "    autosize = True,\n",
    "    mapbox = go.layout.Mapbox(\n",
    "        accesstoken = mapbox_access_token,\n",
    "        bearing = 0,\n",
    "        center = go.layout.mapbox.Center(\n",
    "            lat = init_lat,\n",
    "            lon = init_lon\n",
    "        ),\n",
    "        pitch = 0,\n",
    "        zoom = init_zoom\n",
    "    ))"
   ]
  },
  {
   "cell_type": "code",
   "execution_count": 124,
   "metadata": {},
   "outputs": [
    {
     "name": "stderr",
     "output_type": "stream",
     "text": [
      "C:\\Users\\Gabriel\\Anaconda3\\envs\\dash_freelance\\lib\\site-packages\\IPython\\core\\display.py:689: UserWarning:\n",
      "\n",
      "Consider using IPython.display.IFrame instead\n",
      "\n"
     ]
    },
    {
     "data": {
      "text/html": [
       "<iframe id=\"igraph\" scrolling=\"no\" style=\"border:none;\" seamless=\"seamless\" src=\"https://plot.ly/~gabrielmpaula/30.embed\" height=\"900px\" width=\"100%\"></iframe>"
      ],
      "text/plain": [
       "<plotly.tools.PlotlyDisplay object>"
      ]
     },
     "execution_count": 124,
     "metadata": {},
     "output_type": "execute_result"
    }
   ],
   "source": [
    "fig = go.Figure(data=data,layout=layout)\n",
    "py.plotly.iplot(fig)"
   ]
  },
  {
   "cell_type": "code",
   "execution_count": null,
   "metadata": {},
   "outputs": [],
   "source": []
  }
 ],
 "metadata": {
  "kernelspec": {
   "display_name": "Python [conda env:dash_freelance]",
   "language": "python",
   "name": "conda-env-dash_freelance-py"
  },
  "language_info": {
   "codemirror_mode": {
    "name": "ipython",
    "version": 3
   },
   "file_extension": ".py",
   "mimetype": "text/x-python",
   "name": "python",
   "nbconvert_exporter": "python",
   "pygments_lexer": "ipython3",
   "version": "3.7.2"
  }
 },
 "nbformat": 4,
 "nbformat_minor": 2
}
